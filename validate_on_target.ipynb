{
 "cells": [
  {
   "cell_type": "markdown",
   "metadata": {},
   "source": [
    "# ImageNet Validation with Microcontroller Tutorial (CLI version)\n",
    "\n",
    "> [ImageNet Validation with Microcontroller Tutorial](https://github.com/erectbranch/mcu-imagenet-tutorial)"
   ]
  },
  {
   "cell_type": "markdown",
   "metadata": {},
   "source": [
    "---\n",
    "\n",
    "## 1. Getting the configuration, Importing the libraries"
   ]
  },
  {
   "cell_type": "code",
   "execution_count": null,
   "metadata": {},
   "outputs": [],
   "source": [
    "import os\n",
    "import yaml\n",
    "import numpy as np"
   ]
  },
  {
   "cell_type": "code",
   "execution_count": null,
   "metadata": {},
   "outputs": [],
   "source": [
    "from utils.configs import SamplingConfig, CliConfig, yaml_to_config\n",
    "\n",
    "with open('./configs/sampling.yaml') as f:\n",
    "    config = yaml.safe_load(f)\n",
    "sampling_config = yaml_to_config(config, SamplingConfig)\n",
    "\n",
    "with open('./configs/cli_command.yaml') as f:\n",
    "    config = yaml.safe_load(f)\n",
    "cli_config = yaml_to_config(config, CliConfig)"
   ]
  },
  {
   "cell_type": "code",
   "execution_count": null,
   "metadata": {},
   "outputs": [],
   "source": [
    "TOTAL_TRY      = sampling_config.sampling.num_subset\n",
    "DATA_SIZE      = sampling_config.sampling.subset_size\n",
    "NUM_SUBSET     = sampling_config.sampling.num_subset\n",
    "IMAGENET_PATH  = sampling_config.sampling.save_path\n",
    "\n",
    "SERIAL_PORT    = cli_config.stedgeai.serial_port\n",
    "STM_AI_PATH    = os.path.expanduser(cli_config.stedgeai.path)\n",
    "TEMP_WORKSPACE = os.path.expanduser(cli_config.stedgeai.temp)\n",
    "OUTPUT_PATH    = os.path.expanduser(cli_config.stedgeai.report_path)\n",
    "\n",
    "MODEL_PATH     = os.path.expanduser(cli_config.target.path)\n",
    "TARGET_STM     = cli_config.target.mcu"
   ]
  },
  {
   "cell_type": "markdown",
   "metadata": {},
   "source": [
    "---\n",
    "\n",
    "## 2. Select a validation subset"
   ]
  },
  {
   "cell_type": "code",
   "execution_count": null,
   "metadata": {},
   "outputs": [],
   "source": [
    "selected_idx = input(\"Enter the subset index of the validation data to inference.:}\")\n",
    "\n",
    "selected_idx = int(selected_idx)\n",
    "assert 0 < selected_idx <= NUM_SUBSET, f\"The input value must be an integer of {NUM_SUBSET} or less.\"\n",
    "print(f'validation data subset has been selected.: {selected_idx} / {NUM_SUBSET}')"
   ]
  },
  {
   "cell_type": "code",
   "execution_count": null,
   "metadata": {},
   "outputs": [],
   "source": [
    "completed     = os.listdir(OUTPUT_PATH)\n",
    "current_try   = 1\n",
    "\n",
    "for i in range(TOTAL_TRY):\n",
    "    if str(i+1) not in completed:\n",
    "        os.makedirs(f\"{OUTPUT_PATH}/{i+1}/\", exist_ok=True)\n",
    "        current_try = i+1\n",
    "        break\n",
    "\n",
    "print(f\"Inference in progress...: {current_try} / {TOTAL_TRY}\")"
   ]
  },
  {
   "cell_type": "code",
   "execution_count": null,
   "metadata": {},
   "outputs": [],
   "source": [
    "# (Optional) If you want to visualize the input data, you can use the following code.\n",
    "\n",
    "import matplotlib.pyplot as plt\n",
    "import warnings\n",
    "\n",
    "warnings.filterwarnings('ignore')\n",
    "%matplotlib inline\n",
    "\n",
    "plt.rcParams[\"figure.figsize\"] = (15,15)\n",
    "current_inputs = np.load(f'{IMAGENET_PATH}/{selected_idx}_input.npy')\n",
    "\n",
    "fig = plt.figure()\n",
    "fig_cols = 5\n",
    "\n",
    "for i, image in enumerate(current_inputs):\n",
    "    current_loc = [(DATA_SIZE // fig_cols), fig_cols, (i + 1)]\n",
    "    ax = fig.add_subplot(*current_loc)\n",
    "    ax.imshow(image.squeeze(axis=0))\n",
    "    ax.set_title(f'{i + 1}')\n",
    "    ax.axis('off')\n",
    "    \n",
    "plt.show()"
   ]
  },
  {
   "cell_type": "markdown",
   "metadata": {},
   "source": [
    "---\n",
    "\n",
    "## 3. Inference on MCU"
   ]
  },
  {
   "cell_type": "markdown",
   "metadata": {},
   "source": [
    "> please compare the `run_command` below to your IDE 'validate on target' log and adjust the `run_command` accordingly."
   ]
  },
  {
   "cell_type": "code",
   "execution_count": null,
   "metadata": {},
   "outputs": [],
   "source": [
    "# example code for inference\n",
    "run_command = [f\"arch -arm64 {STM_AI_PATH} validate --target {TARGET_STM} --name network -m {MODEL_PATH} \",     # 문장 마지막 공백 주의\n",
    "                f\"--compression none --verbosity 1 --allocate-inputs --allocate-outputs \",\n",
    "                f\"--workspace {TEMP_WORKSPACE} --output {OUTPUT_PATH}/{current_try} \",\n",
    "                f\"--valoutput {IMAGENET_PATH}/{selected_idx}_target.npy --mode target --valinput {IMAGENET_PATH}/{selected_idx}_input.npy \",\n",
    "                f\"--desc {SERIAL_PORT} --classifier\"]\n",
    "print(f'Start inferencing... (run command: {run_command})')\n",
    "\n",
    "os.system(''.join(run_command))"
   ]
  },
  {
   "cell_type": "markdown",
   "metadata": {},
   "source": [
    "---\n",
    "\n",
    "## 4. Calculate the accuracy"
   ]
  },
  {
   "cell_type": "code",
   "execution_count": null,
   "metadata": {},
   "outputs": [],
   "source": [
    "# Loading inference results\n",
    "out = np.load(f'{OUTPUT_PATH}/{current_try}/network_val_io.npz')\n",
    "mcu_outputs = out['c_outputs_1']\n",
    "\n",
    "# Load the target labels\n",
    "labels = np.load(f'{IMAGENET_PATH}/{selected_idx}_target.npy')"
   ]
  },
  {
   "cell_type": "code",
   "execution_count": null,
   "metadata": {},
   "outputs": [],
   "source": [
    "def top_k_categorical_accuracy(y_true, y_pred_proba, k=1):\n",
    "    return np.equal(np.argsort(y_pred_proba)[:, -k:], y_true[:, None]).any(axis=1).mean()"
   ]
  },
  {
   "cell_type": "code",
   "execution_count": null,
   "metadata": {},
   "outputs": [],
   "source": [
    "top1_acc_list = []\n",
    "top5_acc_list = []\n",
    "\n",
    "for label, output in zip(labels, mcu_outputs):\n",
    "    output = np.squeeze(output, axis=0)\n",
    "    label_idx = np.argmax(label)\n",
    "    label_idx = np.array([label_idx])\n",
    "\n",
    "    top1 = top_k_categorical_accuracy(label_idx, output, k=1)\n",
    "    top5 = top_k_categorical_accuracy(label_idx, output, k=5)\n",
    "    \n",
    "    top1_acc_list.append(top1 * 100)\n",
    "    top5_acc_list.append(top5 * 100)\n",
    "\n",
    "print(f'Top-1 average accuracy over {DATA_SIZE} images of validation data: {np.mean(top1_acc_list):.2f}%')\n",
    "print(f'Top-5 average accuracy over {DATA_SIZE} images of validation data: {np.mean(top5_acc_list):.2f}%')"
   ]
  },
  {
   "cell_type": "markdown",
   "metadata": {},
   "source": [
    "---"
   ]
  }
 ],
 "metadata": {
  "kernelspec": {
   "display_name": "stm32_cloud",
   "language": "python",
   "name": "python3"
  },
  "language_info": {
   "codemirror_mode": {
    "name": "ipython",
    "version": 3
   },
   "file_extension": ".py",
   "mimetype": "text/x-python",
   "name": "python",
   "nbconvert_exporter": "python",
   "pygments_lexer": "ipython3",
   "version": "3.10.9"
  }
 },
 "nbformat": 4,
 "nbformat_minor": 2
}
